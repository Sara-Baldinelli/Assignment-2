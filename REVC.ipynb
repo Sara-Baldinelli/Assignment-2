{
 "cells": [
  {
   "cell_type": "code",
   "execution_count": 9,
   "id": "e6a7e501",
   "metadata": {},
   "outputs": [],
   "source": [
    "def REVC():\n",
    "    compl_DNA = ''\n",
    "    string = reversed(str(DNA))\n",
    "    for nucleotide in string:\n",
    "        if nucleotide == 'G':\n",
    "            compl_DNA += 'C'\n",
    "        elif nucleotide == 'C':\n",
    "            compl_DNA += 'G'\n",
    "        elif nucleotide == 'T':\n",
    "            compl_DNA += 'A'\n",
    "        elif nucleotide == 'A':\n",
    "            compl_DNA += 'T'\n",
    "    print(compl_DNA)"
   ]
  },
  {
   "cell_type": "code",
   "execution_count": 10,
   "id": "6c6a3be8",
   "metadata": {},
   "outputs": [
    {
     "name": "stdout",
     "output_type": "stream",
     "text": [
      "AGATCCGGGTTTCTCGGACGACGGCTGGCCGCAGCGTGGCGGGACCGAACTCACTTTGAGCTACTAAGTGGGCAGCCGTTATAATTTAAGTAGGATCTTGGCAACAAGCCATTGCAACAGCGACCAATTTACTATTCTGGGGGTTTTCGACACGTGTCGCCCCACAGTTATCCTGGGACGGGGATAAGAGCGGAAGAATGCTCGAAGAAAAAGGAGCCTGCGTCCATGGGATCAGGTGGTCATAACATACCACTGTTTGGGTTCTGGTCTACAAGACGAGTATAGGCCGTCTCGCTCGGGCGATTAACCCCGTTTAAAGGGCCCACGGAGCTCGCCCTCGATAAGCGGTGGTTGTCCCTGAAGGGCAAGACGCACTTTAAAAGGTTATTTTGGCAAAACAGCGTAACAATACGAGGCATGTTATCTCGGCAGCGCGGATCCGATGGTCCGCACGATTCACTTGCGACCCGGCGGAATGTACAACAGGTTAAAGTCCAGAAGCATATGCCGGCCACTGTTGTGCGGTTATGATCTCTGGAGACGCGAGGACCGCGGAGACCCGAACTCGCCTTGAGCAACGTCAACTTCTCCAGGGCGCAGGCTACGGGTTACGTGCCAGAGGTATGAATGCGGTGTCATTTTAATGAAGCCTAAAGGAGATAGCCTTGATCCCTGTGCAATGCGCAAGTTAGAACAGGGTACTCTGACGCTGAGGCGTCTTCGAGGAACCGGAGATTAAGGAATTGGCGAAGTCCCCTAGACGATTACCTAATGTCGTTAGTGTAAATTCTGATGTACGCTATTGACCATAAAGAGCTCAGGCGAGGTACATCACCCCTGCTCGAGAAACGTTCACCGATCGCTTCACTGGCATGTACAGCGGAACAAACAGTGGATTAGGATTAATCTTTCGCATCTACCCTACTGCCCAAGGGAGACCCGGCATGGCAAGGCGGCCCCATTCCCTAGTATCCATCTAACCG\n"
     ]
    }
   ],
   "source": [
    "with open('rosalind_revc.txt', 'r') as f:\n",
    "    DNA = str(f.readline())\n",
    "    \n",
    "REVC()"
   ]
  }
 ],
 "metadata": {
  "kernelspec": {
   "display_name": "Python 3",
   "language": "python",
   "name": "python3"
  },
  "language_info": {
   "codemirror_mode": {
    "name": "ipython",
    "version": 3
   },
   "file_extension": ".py",
   "mimetype": "text/x-python",
   "name": "python",
   "nbconvert_exporter": "python",
   "pygments_lexer": "ipython3",
   "version": "3.8.8"
  }
 },
 "nbformat": 4,
 "nbformat_minor": 5
}
