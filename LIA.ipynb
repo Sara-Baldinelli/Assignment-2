{
 "cells": [
  {
   "cell_type": "code",
   "execution_count": 4,
   "id": "657be478",
   "metadata": {},
   "outputs": [
    {
     "name": "stdout",
     "output_type": "stream",
     "text": [
      "0.5675291577424665\n"
     ]
    }
   ],
   "source": [
    "import math\n",
    "\n",
    "def bin_coeff(x, y):\n",
    "    a = math.factorial(x)\n",
    "    b = math.factorial(y)\n",
    "    diff = math.factorial(x-y)\n",
    "    return a // (b * diff)\n",
    "\n",
    "#Probability of x individuals having genotype AaBb in the kth generation\n",
    "def prob(k, x):  \n",
    "    return bin_coeff(2**k, x) * (0.75**(2**k - x)) * (0.25**x)\n",
    "\n",
    "#Probability of AT LEAST N individuals with genotype AaBb in the kth generation\n",
    "def LIA():\n",
    "    result = 0\n",
    "    for i in range(N):\n",
    "        result += prob(k, i)\n",
    "    print(1 - result)\n",
    "\n",
    "file = open(\"rosalind_lia.txt\", \"r\")\n",
    "f = file.readline().split(' ')\n",
    "k = int(f[0])\n",
    "N = int(f[1])\n",
    "\n",
    "LIA()"
   ]
  }
 ],
 "metadata": {
  "kernelspec": {
   "display_name": "Python 3",
   "language": "python",
   "name": "python3"
  },
  "language_info": {
   "codemirror_mode": {
    "name": "ipython",
    "version": 3
   },
   "file_extension": ".py",
   "mimetype": "text/x-python",
   "name": "python",
   "nbconvert_exporter": "python",
   "pygments_lexer": "ipython3",
   "version": "3.8.8"
  }
 },
 "nbformat": 4,
 "nbformat_minor": 5
}
