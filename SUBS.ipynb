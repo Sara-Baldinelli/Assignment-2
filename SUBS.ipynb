{
 "cells": [
  {
   "cell_type": "code",
   "execution_count": 2,
   "id": "b7faf7e7",
   "metadata": {},
   "outputs": [],
   "source": [
    "def subs(s, t):\n",
    "    lst = []\n",
    "    for i in range(len(s)):\n",
    "        if s[i:].startswith(t):\n",
    "            lst.append(i+1)\n",
    "    return lst"
   ]
  },
  {
   "cell_type": "code",
   "execution_count": 3,
   "id": "d9838279",
   "metadata": {},
   "outputs": [
    {
     "name": "stdout",
     "output_type": "stream",
     "text": [
      "1 30 100 131 147 154 179 186 245 262 326 346 361 405 412 423 449 458 473 531 538 572 636 643 711 773\n"
     ]
    }
   ],
   "source": [
    "with open('rosalind_subs.txt', 'r') as f:\n",
    "    f = f.readlines()\n",
    "    s = f[0].replace('\\n', '')\n",
    "    t = f[1].replace('\\n', '')\n",
    "    print(*subs(s, t))"
   ]
  },
  {
   "cell_type": "code",
   "execution_count": null,
   "id": "0e23653d",
   "metadata": {},
   "outputs": [],
   "source": []
  },
  {
   "cell_type": "code",
   "execution_count": null,
   "id": "a90bf363",
   "metadata": {},
   "outputs": [],
   "source": []
  }
 ],
 "metadata": {
  "kernelspec": {
   "display_name": "Python 3",
   "language": "python",
   "name": "python3"
  },
  "language_info": {
   "codemirror_mode": {
    "name": "ipython",
    "version": 3
   },
   "file_extension": ".py",
   "mimetype": "text/x-python",
   "name": "python",
   "nbconvert_exporter": "python",
   "pygments_lexer": "ipython3",
   "version": "3.8.8"
  }
 },
 "nbformat": 4,
 "nbformat_minor": 5
}
