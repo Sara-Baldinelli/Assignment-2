{
 "cells": [
  {
   "cell_type": "code",
   "execution_count": 46,
   "id": "1c7bfb6f",
   "metadata": {},
   "outputs": [],
   "source": [
    "import math\n",
    "\n",
    "def PROB():\n",
    "    with open('rosalind_prob.txt', 'r') as f:\n",
    "        DNA = f.readline()\n",
    "        for line in f:\n",
    "            if line[0] != 'A' and line[0] != 'T' and line[0] != 'G' and line[0] != 'C':\n",
    "                A_array = line.split()\n",
    "                GC_content = [float(x) for x in A_array]\n",
    "        A = DNA.count('A')\n",
    "        C = DNA.count('C')\n",
    "        G = DNA.count('G')\n",
    "        T = DNA.count('T')\n",
    "        AT = A + T\n",
    "        GC = G + C\n",
    "\n",
    "        B_array = []\n",
    "        for numb in range(len(GC_content)):\n",
    "            prob = AT*(math.log10((1-GC_content[numb])/2)) + GC*(math.log10(GC_content[numb]/2))\n",
    "            B_array.append(prob)\n",
    "        print(*B_array, sep=' ')"
   ]
  },
  {
   "cell_type": "code",
   "execution_count": 47,
   "id": "f10e633d",
   "metadata": {},
   "outputs": [
    {
     "name": "stdout",
     "output_type": "stream",
     "text": [
      "-74.33668055831905 -68.82116643891473 -63.51481331381288 -59.54132776457854 -55.872666566253066 -54.81565715180626 -54.00357423613845 -53.596904706002526 -53.63900246298964 -54.88319583622142 -56.13325952350303 -56.98817552862823 -62.79870293063952 -65.60877718834352 -76.68525795589883\n"
     ]
    }
   ],
   "source": [
    "PROB()"
   ]
  }
 ],
 "metadata": {
  "kernelspec": {
   "display_name": "Python 3",
   "language": "python",
   "name": "python3"
  },
  "language_info": {
   "codemirror_mode": {
    "name": "ipython",
    "version": 3
   },
   "file_extension": ".py",
   "mimetype": "text/x-python",
   "name": "python",
   "nbconvert_exporter": "python",
   "pygments_lexer": "ipython3",
   "version": "3.8.8"
  }
 },
 "nbformat": 4,
 "nbformat_minor": 5
}
