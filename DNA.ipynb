{
 "cells": [
  {
   "cell_type": "code",
   "execution_count": 9,
   "id": "fa2a2dc8",
   "metadata": {},
   "outputs": [],
   "source": [
    "def DNA(dna_string):\n",
    "    print(dna_string.count('A'), dna_string.count('C'), dna_string.count('G'), dna_string.count('T'))"
   ]
  },
  {
   "cell_type": "code",
   "execution_count": 10,
   "id": "212bf0d0",
   "metadata": {},
   "outputs": [
    {
     "name": "stdout",
     "output_type": "stream",
     "text": [
      "242 221 250 232\n"
     ]
    }
   ],
   "source": [
    "with open('rosalind_DNA.txt', 'r') as f:\n",
    "    dna_string = str(f.readline())\n",
    "\n",
    "DNA(dna_string)"
   ]
  }
 ],
 "metadata": {
  "kernelspec": {
   "display_name": "Python 3",
   "language": "python",
   "name": "python3"
  },
  "language_info": {
   "codemirror_mode": {
    "name": "ipython",
    "version": 3
   },
   "file_extension": ".py",
   "mimetype": "text/x-python",
   "name": "python",
   "nbconvert_exporter": "python",
   "pygments_lexer": "ipython3",
   "version": "3.8.8"
  }
 },
 "nbformat": 4,
 "nbformat_minor": 5
}
