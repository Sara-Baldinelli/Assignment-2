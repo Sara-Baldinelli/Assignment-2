{
 "cells": [
  {
   "cell_type": "code",
   "execution_count": 231,
   "id": "cf09013f",
   "metadata": {},
   "outputs": [
    {
     "name": "stdout",
     "output_type": "stream",
     "text": [
      "Rosalind_7018\n",
      "53.61596009975062\n"
     ]
    }
   ],
   "source": [
    "def read_fasta(file):\n",
    "    new_lst = []\n",
    "    lst = file.read().split('>')[1:]        \n",
    "    for i in range(len(lst)):\n",
    "        new = lst[i].split('\\n', 1)\n",
    "        ID = new[0].replace('\\n', '')\n",
    "        seq = new[1].replace('\\n', '')\n",
    "        new_lst.append(ID)\n",
    "        new_lst.append(seq)        \n",
    "    return (new_lst)\n",
    "\n",
    "with open ('rosalind_gc.txt', 'r') as f:\n",
    "    lst = read_fasta(f)\n",
    "    Percentage = []\n",
    "    for i in range(len(lst)):\n",
    "        if i%2 != 0:\n",
    "            c = 0\n",
    "            l = len(lst[i])\n",
    "            for nucleotide in lst[i]:\n",
    "                if nucleotide == 'C' or nucleotide == 'G':\n",
    "                    c += 1\n",
    "            p = (c/l)*100\n",
    "            Percentage.append(p)\n",
    "    print (lst[Percentage.index(max(Percentage))*2], max(Percentage), sep = '\\n')"
   ]
  }
 ],
 "metadata": {
  "kernelspec": {
   "display_name": "Python 3",
   "language": "python",
   "name": "python3"
  },
  "language_info": {
   "codemirror_mode": {
    "name": "ipython",
    "version": 3
   },
   "file_extension": ".py",
   "mimetype": "text/x-python",
   "name": "python",
   "nbconvert_exporter": "python",
   "pygments_lexer": "ipython3",
   "version": "3.8.8"
  }
 },
 "nbformat": 4,
 "nbformat_minor": 5
}
