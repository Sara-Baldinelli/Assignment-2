{
 "cells": [
  {
   "cell_type": "code",
   "execution_count": 26,
   "id": "3feac0fb",
   "metadata": {},
   "outputs": [],
   "source": [
    "def IPRB():\n",
    "    population = k + m + n\n",
    "\n",
    "    mating_organisms = [k*m*1, m*k*1, k*n*1, n*k*1, m*n*0.5, n*m*0.5, k*(k-1)*1, m*(m-1)*0.75, 0*n*(n-1)]\n",
    "\n",
    "    probability = sum(mating_organisms)/population/(population-1)\n",
    "    print(probability)"
   ]
  },
  {
   "cell_type": "code",
   "execution_count": 27,
   "id": "69b97e2d",
   "metadata": {},
   "outputs": [
    {
     "name": "stdout",
     "output_type": "stream",
     "text": [
      "0.8205662862159789\n"
     ]
    }
   ],
   "source": [
    "with open('rosalind_iprb.txt', 'r') as f:\n",
    "    k, m, n = f.read().split(' ')\n",
    "    k, m, n = int(k), int(m), int(n)\n",
    "    \n",
    "IPRB()"
   ]
  }
 ],
 "metadata": {
  "kernelspec": {
   "display_name": "Python 3",
   "language": "python",
   "name": "python3"
  },
  "language_info": {
   "codemirror_mode": {
    "name": "ipython",
    "version": 3
   },
   "file_extension": ".py",
   "mimetype": "text/x-python",
   "name": "python",
   "nbconvert_exporter": "python",
   "pygments_lexer": "ipython3",
   "version": "3.8.8"
  }
 },
 "nbformat": 4,
 "nbformat_minor": 5
}
