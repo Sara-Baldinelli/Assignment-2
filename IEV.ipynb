{
 "cells": [
  {
   "cell_type": "code",
   "execution_count": 34,
   "id": "3247bfd4",
   "metadata": {},
   "outputs": [],
   "source": [
    "def IEV():\n",
    "    # number of offsprings with dominant phenotype of each genotype is equal to:\n",
    "    # the number of couples having the same genotype\n",
    "    # times the probability of obtaining a dominant phenotype\n",
    "    # times the number of offsprings for each couple\n",
    "    offspr_1 = AA_AA * 1 * 2\n",
    "    offspr_2 = AA_Aa * 1 * 2\n",
    "    offspr_3 = AA_aa * 1 * 2\n",
    "    offspr_4 = Aa_Aa * 0.75 * 2\n",
    "    offspr_5 = Aa_aa * 0.5 * 2\n",
    "    offspr_6 = aa_aa * 0 * 2\n",
    "    # I sum them to obtain the total number of offsprings having a dominant phenotype\n",
    "    offspr_tot = offspr_1 + offspr_2 + offspr_3 + offspr_4 + offspr_5 + offspr_6\n",
    "    return offspr_tot"
   ]
  },
  {
   "cell_type": "code",
   "execution_count": 35,
   "id": "ea5d6875",
   "metadata": {},
   "outputs": [],
   "source": [
    "with open('rosalind_iev.txt', 'r') as f:\n",
    "    f = f.readline().split(' ')\n",
    "    AA_AA = int(f[0])\n",
    "    AA_Aa = int(f[1])\n",
    "    AA_aa = int(f[2])\n",
    "    Aa_Aa = int(f[3])\n",
    "    Aa_aa = int(f[4])\n",
    "    aa_aa = int(f[5])"
   ]
  },
  {
   "cell_type": "code",
   "execution_count": 36,
   "id": "765e6326",
   "metadata": {},
   "outputs": [
    {
     "data": {
      "text/plain": [
       "151970.0"
      ]
     },
     "execution_count": 36,
     "metadata": {},
     "output_type": "execute_result"
    }
   ],
   "source": [
    "IEV()"
   ]
  }
 ],
 "metadata": {
  "kernelspec": {
   "display_name": "Python 3",
   "language": "python",
   "name": "python3"
  },
  "language_info": {
   "codemirror_mode": {
    "name": "ipython",
    "version": 3
   },
   "file_extension": ".py",
   "mimetype": "text/x-python",
   "name": "python",
   "nbconvert_exporter": "python",
   "pygments_lexer": "ipython3",
   "version": "3.8.8"
  }
 },
 "nbformat": 4,
 "nbformat_minor": 5
}
